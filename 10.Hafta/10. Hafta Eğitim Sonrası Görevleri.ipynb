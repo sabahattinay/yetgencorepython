{
 "cells": [
  {
   "attachments": {},
   "cell_type": "markdown",
   "metadata": {},
   "source": [
    "# Problem 1 "
   ]
  },
  {
   "cell_type": "code",
   "execution_count": 3,
   "metadata": {},
   "outputs": [
    {
     "name": "stdout",
     "output_type": "stream",
     "text": [
      "[ 32  99 105  85  64]\n",
      "[ 32  64  85  99 105]\n"
     ]
    }
   ],
   "source": [
    "# 1 - numpy kütüphanesini import edin\n",
    "import numpy as np\n",
    "# 2 - 5 elemanlı bir numpy array oluşturun\n",
    "yetgenPython = np.array([32,99,105,85,64])\n",
    "print(yetgenPython)\n",
    "# 3 - Oluşturduğunuz arrayi küçükten büyüğe sıralayın.\n",
    "yetgenPython2 = np.sort(yetgenPython)\n",
    "print(yetgenPython2)"
   ]
  },
  {
   "attachments": {},
   "cell_type": "markdown",
   "metadata": {},
   "source": [
    "# Problem 2"
   ]
  },
  {
   "cell_type": "code",
   "execution_count": 29,
   "metadata": {},
   "outputs": [
    {
     "name": "stdout",
     "output_type": "stream",
     "text": [
      "sayılar arrayı:  [10 15 30 45 60]\n",
      "sayılar2 array:  [ 5  6  7  8  9 10 11 12 13 14 15] \n",
      "\n",
      "sayı3 arrayı:  [50 55 60 65 70 75 80 85 90 95] \n",
      "\n",
      "sayi2 arrayı:  [0. 0. 0. 0. 0. 0. 0. 0. 0. 0.] \n",
      "\n",
      "sayi3 arrayı:  [1. 1. 1. 1. 1. 1. 1. 1.] \n",
      "\n",
      "sayi4 arrayı:  [  0.          16.66666667  33.33333333  50.          66.66666667\n",
      "  83.33333333 100.        ] \n",
      "\n",
      "sayi5:  [12 18 21 13 10] \n",
      "\n",
      "üretilen random sayılar:  [-0.05681808  0.91188304  0.53136557  0.27146082 -0.44355477  0.47033967\n",
      " -0.62357955  0.25628743 -0.23050675 -0.07886593]\n",
      "3*5 matris:  [[41 20 31 22 42]\n",
      " [11 27 38 47 13]\n",
      " [25 24 45 14 11]] \n",
      "\n",
      "[ 77  71 114  83  66]\n",
      "[156 136 119]\n",
      "47\n",
      "11\n",
      "27.4\n",
      "12: 8\n",
      "13.soru: [16 10 18 19 13 16 12 17 19]\n",
      "14:  [19 17 12 16 13 19 18 10 16]\n",
      "[41 20 31 22 42]\n",
      "[[41 20 31 22 42]\n",
      " [11 27 38 47 13]\n",
      " [25 24 45 14 11]]\n",
      "[11 27 38 47 13] [2]\n",
      "[20 27 24]\n",
      "[[1681  400  961  484 1764]\n",
      " [ 121  729 1444 2209  169]\n",
      " [ 625  576 2025  196  121]]\n",
      "[-46 -46  38  10  40  24  48  -2  -2 -28 -40 -26  24 -46  42   8  24  -6\n",
      "   0 -24 -36 -26  18  10  46 -28 -26 -28  26 -30 -12  40  -8  26  38  -2\n",
      "  28  -6 -44]\n"
     ]
    }
   ],
   "source": [
    "# 1- (10,15,30,45,60) değerlerine sahip numpy dizisi oluşturunuz.\n",
    "sayilar = np.array([10,15,30,45,60])\n",
    "print(\"sayılar arrayı: \", sayilar)\n",
    "\n",
    "# 2- (5-15) arasındaki sayılarla numpy dizisi oluşturunuz.\n",
    "sayilar2 = np.arange(5,16)\n",
    "print(\"sayılar2 array: \", sayilar2, \"\\n\")\n",
    "# 3- (50-100) arasında 5'er 5'er artarak numpy dizisi oluşturunuz.\n",
    "sayi= np.arange(50,100,5)\n",
    "print(\"sayı3 arrayı: \", sayi, \"\\n\")\n",
    "\n",
    "# 4- 10 elemanlı sıfırlardan oluşan bir dizi oluşturunuz.\n",
    "sayi2 = np.zeros(10)\n",
    "print(\"sayi2 arrayı: \", sayi2, \"\\n\")\n",
    "\n",
    "\n",
    "# 5- 10 elemanlı birlerden oluşan bir dizi oluşturunuz.\n",
    "sayi3 = np.ones(8)\n",
    "print(\"sayi3 arrayı: \", sayi3 , \"\\n\")\n",
    "# 6- (0-100) arasında eşit aralıklı 5 sayı üretin.\n",
    "sayi4 = np.linspace(0,100,7)\n",
    "print(\"sayi4 arrayı: \", sayi4, \"\\n\")\n",
    "# 7- (10-30) arasında rastgele 5 tane tamsayı üretin.\n",
    "sayi5 = np.random.randint(10,31, size=5)\n",
    "print(\"sayi5: \", sayi5, \"\\n\")\n",
    "\n",
    "# 8- [-1 ile 1] arasında 10 adet sayı üretin.\n",
    "randSayi = np.random.uniform(-1,1,size=10)\n",
    "print(\"üretilen random sayılar: \", randSayi)\n",
    "\n",
    "# 9- (3x5) boyutlarında (10-50) arasında rastgele bir matris oluşturunuz.\n",
    "randSayi2 = np.random.randint(10,50, size=(3,5))\n",
    "print(\"3*5 matris: \", randSayi2, \"\\n\")\n",
    "                              \n",
    "# 10- Üretilen matrisin satır ve sütun sayıları toplamlarını hesaplayınız ?\n",
    "print(randSayi2.sum(axis=0))\n",
    "print(randSayi2.sum(axis=1))\n",
    "\n",
    "# 11- Üretilen matrisin en büyük, en küçük ve ortalaması nedir ?\n",
    "print(randSayi2.max())\n",
    "print(randSayi2.min())\n",
    "print(randSayi2.mean())\n",
    "\n",
    "# 12- Üretilen matrisin en büyük değerinin indeksi kaçtır ?\n",
    "print(\"12:\",randSayi2.argmax())\n",
    "\n",
    "# 13- (10-20) arasındaki sayıları içeren dizinin ilk 3 elemanını seçiniz.\n",
    "randSayi3 = np.random.randint(10,20, size=9)\n",
    "print(\"13.soru:\", randSayi3[:])\n",
    "\n",
    "# 14- Üretilen dizinin elemanlarını tersten yazdırın.\n",
    "print(\"14: \", randSayi3[::-1])\n",
    "\n",
    "\n",
    "# 15- Üretilen matrisin ilk satırını seçiniz.\n",
    "print(randSayi2[0])\n",
    "\n",
    "# 16- Üretilen matrisin 2.satır 3.sütundaki elemanı hangisidir ?\n",
    "print(randSayi2)\n",
    "print(randSayi2[1],[2])\n",
    "\n",
    "# 17- Üretilen matrisin tüm satırlardaki ilk elemanı seçiniz.\n",
    "print(randSayi2[:,1])\n",
    "\n",
    "# 18- Üretilen matrisin her bir elemanının karesini alınız.\n",
    "print(randSayi2**2)\n",
    "\n",
    "# 19- Üretilen matris elemanlarının hangisi pozitif çift sayıdır ? Aralığı (-50,+50) arasında yapınız.\n",
    "randSayi4 = np.random.randint(-50,50, size=(9,9))\n",
    "print(randSayi4[randSayi4 % 2 == 0 & (randSayi4 > 0)])"
   ]
  }
 ],
 "metadata": {
  "kernelspec": {
   "display_name": "Python 3",
   "language": "python",
   "name": "python3"
  },
  "language_info": {
   "codemirror_mode": {
    "name": "ipython",
    "version": 3
   },
   "file_extension": ".py",
   "mimetype": "text/x-python",
   "name": "python",
   "nbconvert_exporter": "python",
   "pygments_lexer": "ipython3",
   "version": "3.11.3"
  },
  "orig_nbformat": 4,
  "vscode": {
   "interpreter": {
    "hash": "5026d2d6e7aaaaba093def813beadff083d8733e4a511af01735cbabd156995d"
   }
  }
 },
 "nbformat": 4,
 "nbformat_minor": 2
}
