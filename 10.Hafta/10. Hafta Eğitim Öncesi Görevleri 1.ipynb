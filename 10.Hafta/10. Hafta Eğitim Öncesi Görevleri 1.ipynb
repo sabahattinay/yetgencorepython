{
 "cells": [
  {
   "attachments": {},
   "cell_type": "markdown",
   "metadata": {},
   "source": [
    "# Problem 1"
   ]
  },
  {
   "cell_type": "code",
   "execution_count": 1,
   "metadata": {},
   "outputs": [
    {
     "name": "stdout",
     "output_type": "stream",
     "text": [
      "Requirement already satisfied: numpy in c:\\users\\sabah\\appdata\\local\\packages\\pythonsoftwarefoundation.python.3.11_qbz5n2kfra8p0\\localcache\\local-packages\\python311\\site-packages (1.24.3)\n",
      "Note: you may need to restart the kernel to use updated packages.\n"
     ]
    },
    {
     "name": "stderr",
     "output_type": "stream",
     "text": [
      "\n",
      "[notice] A new release of pip available: 22.3.1 -> 23.1.2\n",
      "[notice] To update, run: C:\\Users\\sabah\\AppData\\Local\\Microsoft\\WindowsApps\\PythonSoftwareFoundation.Python.3.11_qbz5n2kfra8p0\\python.exe -m pip install --upgrade pip\n"
     ]
    }
   ],
   "source": [
    "pip install numpy"
   ]
  },
  {
   "cell_type": "code",
   "execution_count": null,
   "metadata": {},
   "outputs": [],
   "source": [
    "# 1 - numpy kütüphanesini import edin\n",
    "import numpy as np\n",
    "# 2 - 0 ile 10 arasında 5 sayıdan oluşan matris üretin\n",
    "matris = np.random.randint(0, 10, (5,))\n",
    "# 3 - matris'in boyutunu öğrenin\n",
    "boyut = matris.shape\n",
    "# 4 - matris'i yeniden boyutlandırın\n",
    "matris = matris.reshape((5, 1))\n",
    "# 5 - matris'in boyut sayısını öğrenin\n",
    "boyut_sayisi = matris.ndim"
   ]
  },
  {
   "attachments": {},
   "cell_type": "markdown",
   "metadata": {},
   "source": [
    "# Problem 2"
   ]
  },
  {
   "cell_type": "code",
   "execution_count": 2,
   "metadata": {},
   "outputs": [
    {
     "name": "stdout",
     "output_type": "stream",
     "text": [
      "[[1]\n",
      " [3]\n",
      " [5]\n",
      " [7]\n",
      " [9]]\n",
      "[[1]\n",
      " [3]]\n",
      "[[5]\n",
      " [7]\n",
      " [9]]\n",
      "[[1]\n",
      " [3]\n",
      " [5]\n",
      " [7]\n",
      " [9]]\n"
     ]
    }
   ],
   "source": [
    "import numpy as np\n",
    "# 1 - 0 ile 10 arasında bulunan tek sayılardan oluşan matris üretin\n",
    "\n",
    "matrix = np.array([i for i in range(1, 10, 2)]).reshape(5, -1)\n",
    "print(matrix)\n",
    "# 2 - Oluşturduğunuz matrisi parçalayın\n",
    "part1 = matrix[:2, :]\n",
    "part2 = matrix[2:, :]\n",
    "print(part1)\n",
    "print(part2)\n",
    "\n",
    "# 3 - Parçalanmış matrisleri birleştirin\n",
    "merged_matrix = np.concatenate((part1, part2), axis=0)\n",
    "print(merged_matrix)\n"
   ]
  },
  {
   "attachments": {},
   "cell_type": "markdown",
   "metadata": {},
   "source": [
    "# Problem 3"
   ]
  },
  {
   "cell_type": "code",
   "execution_count": 3,
   "metadata": {},
   "outputs": [
    {
     "name": "stdout",
     "output_type": "stream",
     "text": [
      "[[100  75]\n",
      " [ 22  34]\n",
      " [ 44  47]\n",
      " [  7  44]\n",
      " [ 79  99]]\n",
      "Matrisin şekli: (5, 2)\n",
      "Boyut sayısı: 2\n",
      "Matrisin boyutu: 10\n",
      "Matrisin veri tipi: int32\n",
      "Matristeki tüm elemanların toplamı: 551\n",
      "Matristeki minimum değer: 7\n",
      "Matristeki maksimum değer: 100\n"
     ]
    }
   ],
   "source": [
    "import numpy as np\n",
    "# 1 - 5 ile 100 arasında ikişer ikişer atlayarak rastgele 10 sayıdan oluşan matris üretin\n",
    "matris = np.random.randint(5, 101, size=(5, 2))\n",
    "print(matris)\n",
    "\n",
    "# 2 - matris'in özelliklerini inceleyin\n",
    "print(\"Matrisin şekli:\", matris.shape)\n",
    "print(\"Boyut sayısı:\", matris.ndim)\n",
    "print(\"Matrisin boyutu:\", matris.size)\n",
    "print(\"Matrisin veri tipi:\", matris.dtype)\n",
    "print(\"Matristeki tüm elemanların toplamı:\", np.sum(matris))\n",
    "print(\"Matristeki minimum değer:\", np.min(matris))\n",
    "print(\"Matristeki maksimum değer:\", np.max(matris))\n"
   ]
  }
 ],
 "metadata": {
  "kernelspec": {
   "display_name": "Python 3",
   "language": "python",
   "name": "python3"
  },
  "language_info": {
   "codemirror_mode": {
    "name": "ipython",
    "version": 3
   },
   "file_extension": ".py",
   "mimetype": "text/x-python",
   "name": "python",
   "nbconvert_exporter": "python",
   "pygments_lexer": "ipython3",
   "version": "3.11.3"
  },
  "orig_nbformat": 4,
  "vscode": {
   "interpreter": {
    "hash": "5026d2d6e7aaaaba093def813beadff083d8733e4a511af01735cbabd156995d"
   }
  }
 },
 "nbformat": 4,
 "nbformat_minor": 2
}
