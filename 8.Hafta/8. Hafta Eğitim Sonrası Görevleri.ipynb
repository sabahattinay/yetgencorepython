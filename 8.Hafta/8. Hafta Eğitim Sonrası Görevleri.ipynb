{
 "cells": [
  {
   "attachments": {},
   "cell_type": "markdown",
   "metadata": {},
   "source": [
    "# Problem 1\n",
    "\n",
    "Şimdi beraber kullanıcılardan aldığımız verileri işleyerek, onlara hem çıktı verecek, hem de aldığımız ve hesapladığımız verileri ileride kullanabilmek adına kaydedeceğiz.\n",
    "\n",
    "\n",
    " **Bu bir veri giriş platformu olacak**\n",
    "\n",
    "\n",
    " * kullanıcıya kaç giriş yapacağını soracağız\n",
    "* kullanıcıdan isim-soyisim, yaş, boy, kilo bilgilerini alarak VKİ hesaplayacağız\n",
    "* ardından bunları sınıflara göre kaydedeceğiz bir dosyaya kaydedeceğiz\n",
    "\n",
    "\n",
    "Sınıflar ise şu şekilde: \n",
    "* 18, 5 kg/m.'nin altında olanlar: Zayıf\n",
    "* 18.5 – 24, 9 kg/m. arasında olanlar: Normal kilolu\n",
    "* 25 – 29, 9 kg/m. arasında olanlar: Fazla kilolu\n",
    "* 30 – 39, 9 kg/m. arasında olanlar: Obez\n",
    "* 40 kg/m.'nin üzerinde olanlar: İleri derecede obez (morbid obez), olarak görülür."
   ]
  },
  {
   "cell_type": "code",
   "execution_count": 2,
   "metadata": {},
   "outputs": [
    {
     "name": "stdout",
     "output_type": "stream",
     "text": [
      "Kullanıcı Kaydı 1\n",
      "kullanıcı kaydedildi.\n",
      "Veriler 'saglik.txt' dosyasına kaydedildi. \n",
      "\n"
     ]
    }
   ],
   "source": [
    "import time\n",
    "\n",
    "def vkiHesaplama(kilo, boy):\n",
    "\n",
    "    vki = kilo / (boy ** 2)\n",
    "\n",
    "    return round(vki,1)\n",
    "\n",
    "def degerAraligi(vki):\n",
    "\n",
    "    if vki< 18.5:\n",
    "        return \"zayıf\"\n",
    "    elif vki<=24.9:\n",
    "        return \"normal kilolu\"\n",
    "    elif vki<=29.9:\n",
    "        return \"fazla kilolu\"\n",
    "    elif vki<=39.9:\n",
    "        return \"obez\"\n",
    "    elif vki>=40:\n",
    "        return \"ileri obez\"\n",
    "    \n",
    "def ciktiVer(isim, yas, kilo,boy,vki, deger):\n",
    "\n",
    "    kayitTarihi= time.ctime(time.time())\n",
    "\n",
    "    t1 = f\"kullanici adi {isim}\\n\"\n",
    "\n",
    "    t2 = f\"kullanicin yas, kilo, boy bilgisi{yas}, {kilo}, {boy}\\n\"\n",
    "\n",
    "    t3 = f\"kullanıcın vücut kitle indexi {vki}\\n\"\n",
    "\n",
    "    t4 = f\"değer aralığı {deger}\\n\"\n",
    "\n",
    "    t5 = f\"oluşturma tarihi: {kayitTarihi}\"\n",
    "\n",
    "    output = t1 + t2 + t3 + t4 + t5\n",
    "    \n",
    "    return output\n",
    "\n",
    "def main():\n",
    "    girisSayisi= int(input(\"kaç kullanıcı verisi gireceksiniz: \"))\n",
    "    for i in range (girisSayisi):\n",
    "        print(f\"Kullanıcı Kaydı {i+1}\")\n",
    "        isim =input(\"İsim Soyisim: \")\n",
    "        yas = int(input(\"yas: \"))\n",
    "        kilo = float(input(\"kilo (kg): \"))\n",
    "        boy = float(input(\"boy (m): \"))\n",
    "        vki = vkiHesaplama(kilo, boy)\n",
    "        deger = degerAraligi(vki)\n",
    "        output = ciktiVer(isim, yas, kilo, boy, vki, deger)\n",
    "\n",
    "        with open(\"saglik.txt\",\"a\",encoding=\"utf-8\") as f:\n",
    "            f.write(output)\n",
    "            f.write(\"+\"*20)\n",
    "            f.write(\"\\n\")\n",
    "            print(\"kullanıcı kaydedildi.\")\n",
    "\n",
    "        print(\"Veriler 'saglik.txt' dosyasına kaydedildi. \\n\")\n",
    "main()"
   ]
  },
  {
   "attachments": {},
   "cell_type": "markdown",
   "metadata": {},
   "source": [
    "# Problem 2\n",
    "**YetBar - Smoothie Bank**\n",
    "---\n",
    "YetBar spor salonunun girişinde bulunan, insansız bir sağlıklı içecek otomatıdır. Kullanıcı çeşitli girdiler smoothie içeceğine koyacağı ürünleri belirleyebilir, fiyat hesaplaması yaptırabilir ya da sadece menüyü görüntüleyebilir.\n",
    "\n",
    "**Projenin Amacı:**\n",
    "\n",
    "*   Birbirini etkileyen ve bir kod içerisinde birden fazla defa başvurulacak fonksiyonların oluşturulup, \"fonksiyonel\" proglamlamak.\n",
    "*   Büyük programları yazarken, yazılımcı olarak yapabileceğimiz hatalardan kaçınmak için kontrol yöntemleri geliştirmek.\n",
    "*   Kullanıcı inputlarını ve yaptığımız hesapları, raporlamak/loglamak amacıyla kaydetmek.\n",
    "\n",
    "**Programdan Beklenen Çıktılar**\n",
    "* Program kullanıcıya temelde 2 farklı işlem yapma imkanı sağlar.\n",
    "> 1. Menüyü görüntüleme\n",
    "> 3. Satın alma\n",
    "* Satın alınan her içecek tarih, fiyat bilgisi ile kaydedilmeli ve her zaman ulaşılabilir olmalıdır.\n",
    "\n",
    "\n"
   ]
  },
  {
   "cell_type": "code",
   "execution_count": null,
   "metadata": {},
   "outputs": [],
   "source": []
  }
 ],
 "metadata": {
  "kernelspec": {
   "display_name": "Python 3",
   "language": "python",
   "name": "python3"
  },
  "language_info": {
   "codemirror_mode": {
    "name": "ipython",
    "version": 3
   },
   "file_extension": ".py",
   "mimetype": "text/x-python",
   "name": "python",
   "nbconvert_exporter": "python",
   "pygments_lexer": "ipython3",
   "version": "3.11.3"
  },
  "orig_nbformat": 4,
  "vscode": {
   "interpreter": {
    "hash": "5026d2d6e7aaaaba093def813beadff083d8733e4a511af01735cbabd156995d"
   }
  }
 },
 "nbformat": 4,
 "nbformat_minor": 2
}
