{
 "cells": [
  {
   "attachments": {},
   "cell_type": "markdown",
   "metadata": {},
   "source": [
    "##### 1. Hafta\n",
    "- Bu hafta, visual studio kurmayı öğrendik ve github hesabı oluşturup repo açtık.\n",
    "- Bazı fonksiyonlara baktık, bir tanesi html ile ilgiliydi."
   ]
  },
  {
   "attachments": {},
   "cell_type": "markdown",
   "metadata": {},
   "source": [
    "<img src=\"https://images.unsplash.com/photo-1472457897821-70d3819a0e24?ixlib=rb-4.0.3&ixid=MnwxMjA3fDB8MHxzZWFyY2h8Mnx8c21hbGx8ZW58MHx8MHx8&w=1000&q=80\">"
   ]
  },
  {
   "attachments": {},
   "cell_type": "markdown",
   "metadata": {},
   "source": [
    "- Github hesabının önemini anladık ve kodlarımızı saklamak için en ideal yerlerden biri olduğunu öğrendik."
   ]
  }
 ],
 "metadata": {
  "kernelspec": {
   "display_name": "Python 3",
   "language": "python",
   "name": "python3"
  },
  "language_info": {
   "name": "python",
   "version": "3.11.1"
  },
  "orig_nbformat": 4,
  "vscode": {
   "interpreter": {
    "hash": "dddc1ad39ba8a2f63bc7dc12b8097b7daf26352249fa6ace7b11ea932edbc69c"
   }
  }
 },
 "nbformat": 4,
 "nbformat_minor": 2
}
