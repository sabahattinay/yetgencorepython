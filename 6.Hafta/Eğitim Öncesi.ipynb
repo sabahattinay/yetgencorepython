{
 "cells": [
  {
   "cell_type": "code",
   "execution_count": null,
   "metadata": {},
   "outputs": [],
   "source": [
    "deneme1"
   ]
  }
 ],
 "metadata": {
  "kernelspec": {
   "display_name": "Python 3",
   "language": "python",
   "name": "python3"
  },
  "language_info": {
   "name": "python",
   "version": "3.11.1"
  },
  "orig_nbformat": 4,
  "vscode": {
   "interpreter": {
    "hash": "dddc1ad39ba8a2f63bc7dc12b8097b7daf26352249fa6ace7b11ea932edbc69c"
   }
  }
 },
 "nbformat": 4,
 "nbformat_minor": 2
}
