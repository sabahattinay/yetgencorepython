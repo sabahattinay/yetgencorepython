{
 "cells": [
  {
   "cell_type": "markdown",
   "metadata": {},
   "source": [
    "# Problem 1\n",
    "`ogrenciler` adında bir sözlük oluşturunuz. Kullanıcıdan döngü yardımıyla 3 öğrenci için veri girmesini isteyerek öğrencilerin sırasıyla okul numarası, isim, soy isim, telefon numarası ve doğum tarihi bilgilerini alınız. Aldığınız öğrenci bilgilerini yine aynı döngü yardımıyla `ogrenciler` adındaki sözlükte saklayınız. Daha sonra öğrenci bilgilerinin bulunduğu sözlük yapısını ekrana bastırınız.\n",
    "\n"
   ]
  },
  {
   "cell_type": "code",
   "execution_count": 1,
   "metadata": {},
   "outputs": [
    {
     "name": "stdout",
     "output_type": "stream",
     "text": [
      "{1: {'Okul numarası: ': '51', 'İsim ': 'Sabahattin', 'Soyisim ': 'Ay', 'Telefon Numarası ': '05465363757', 'Doğum tarihi': '17/02/2003'}, 2: {'Okul numarası: ': '53', 'İsim ': 'Mahmut', 'Soyisim ': 'Fevzi', 'Telefon Numarası ': '0000000000', 'Doğum tarihi': '19/05/2000'}, 3: {'Okul numarası: ': '67', 'İsim ': 'Batu', 'Soyisim ': 'Ordu', 'Telefon Numarası ': '11111111111', 'Doğum tarihi': '20/07/2001'}}\n"
     ]
    }
   ],
   "source": [
    "ogrenciler = {}\n",
    "\n",
    "for i in range(1,4):\n",
    "    okulnumarasi = input(\"Lütfen okul numaranızı giriniz: \")\n",
    "    isim = input(\"Lütfen isminizi giriniz: \")\n",
    "    soyisim = input(\"Lütfen soyisminizi giriniz: \")\n",
    "    telefonnumarasi = input(\"Lütfen telefon numaranızı giriniz: \")\n",
    "    bday = input(\"Lütfen doğum tarihinizi giriniz: \")\n",
    "\n",
    "    ogrenciler[i] = {\n",
    "        \"Okul numarası: \" : okulnumarasi,\n",
    "        \"İsim \" : isim,\n",
    "        \"Soyisim \" : soyisim,\n",
    "        \"Telefon Numarası \" : telefonnumarasi,\n",
    "        \"Doğum tarihi\" : bday \n",
    "    }\n",
    "\n",
    "print(ogrenciler)"
   ]
  },
  {
   "cell_type": "markdown",
   "metadata": {},
   "source": [
    "# Problem 2\n",
    "\n",
    "### a - Biraz ısınarak başlayalım!\n",
    "\n",
    "```\n",
    "numbers = [5,10,10,15,15,15,20,20,20,20]\n",
    "```\n",
    "\n",
    "Yukarıda `numbers` adında 10 elemanlı bir liste verilmiştir. Bu listenin her elemanını kontrol eden ve tekrar eden elemanları bir kez olacak şekilde başka bir listeye kopyalayan bir program yazınız. Son olarak oluşturduğunuz listeyi ekrana bastırınız.\n",
    "\n",
    "\n",
    "\n",
    "\n",
    "```\n",
    ">Output\n",
    "[5, 10, 15, 20]\n",
    "```\n"
   ]
  },
  {
   "cell_type": "code",
   "execution_count": 5,
   "metadata": {},
   "outputs": [
    {
     "name": "stdout",
     "output_type": "stream",
     "text": [
      "[5, 10, 15, 20]\n"
     ]
    }
   ],
   "source": [
    "numbers = [5,10,10,15,15,15,20,20,20,20]\n",
    "output = []\n",
    "\n",
    "\n",
    "for i in numbers:\n",
    "    if i not in output:\n",
    "        output.append(i)\n",
    "\n",
    "print(output)"
   ]
  },
  {
   "cell_type": "markdown",
   "metadata": {},
   "source": [
    "### 🌶️ b) Hadi işi biraz daha zorlaştıralım! \n",
    "\n",
    "\n",
    "Şimdiyse senden `numbers` isimli listedeki tekrar eden elemanları `repeatNumbers` adındaki listeye; tekrar etmeyen elemanları `uniqueNumbers`adındaki listeye kopyalayan yazmanı ve listeleri ekrana bastırmanı bekliyoruz\n",
    "\n",
    "```\n",
    ">Output\n",
    "Tekrar Eden Elemanlar: [10, 10, 15, 15, 15, 20, 20, 20, 20]\n",
    "Tekrar Etmeyen Elemanlar: [5]\n",
    "```"
   ]
  },
  {
   "cell_type": "code",
   "execution_count": 6,
   "metadata": {},
   "outputs": [
    {
     "name": "stdout",
     "output_type": "stream",
     "text": [
      "Tekrar Edenler:  [10, 10, 15, 15, 15, 20, 20, 20, 20]\n",
      "Tekrar Etmeyenler:  [5]\n"
     ]
    }
   ],
   "source": [
    "numbers = [5,10,10,15,15,15,20,20,20,20]\n",
    "tekraredenler = []\n",
    "tekraretmeyenler = []\n",
    "\n",
    "for i in numbers:\n",
    "    if numbers.count(i) == 1:\n",
    "        tekraretmeyenler.append(i)\n",
    "    else:\n",
    "        tekraredenler.append(i)\n",
    "\n",
    "print(\"Tekrar Edenler: \", tekraredenler)\n",
    "print(\"Tekrar Etmeyenler: \", tekraretmeyenler)"
   ]
  },
  {
   "cell_type": "markdown",
   "metadata": {},
   "source": [
    "# Problem 3\n",
    "sn1 = {1,2,3,4,5}\n",
    "\n",
    "sn2 = {4,5,6,7,8}\n",
    "\n",
    " Verilen 2 adet küme için kesişimlerini, farklarını ve birleşimlerini bulunuz. "
   ]
  },
  {
   "cell_type": "code",
   "execution_count": 7,
   "metadata": {},
   "outputs": [
    {
     "name": "stdout",
     "output_type": "stream",
     "text": [
      "{4, 5}\n"
     ]
    }
   ],
   "source": [
    "sn1 = {1,2,3,4,5}\n",
    "\n",
    "sn2 = {4,5,6,7,8}\n",
    "\n",
    "kesisim = sn1.intersection(sn2)\n",
    "print(kesisim)"
   ]
  },
  {
   "cell_type": "markdown",
   "metadata": {},
   "source": [
    "# Problem 4\n",
    "\n",
    "Buradaki işlemlerimizin tamamı stringler içindir. Aşağıda verilecek olan metodlar için kendinizin örnek yaratması gerekmektedir. \n",
    "\n",
    "Örneğin `upper` için `string` değişkeni oluştururken` k = \"BAC\"` şeklinde oluşturmayınız. Bunun yerine k değişkenini `k = \"bac`\" şeklinde oluşturmanız `upper` metodundaki değişimi görebilmeniz için daha iyi olacaktır.\n",
    "\n",
    "Bütün metodlardaki değişimin gözle görülür şekilde değişimi beklenmektedir.\n",
    "\n",
    "\n",
    "1- capitalize(), lower(), upper(), swapcase(), title(), replace()\n",
    "\n",
    "2- endswith(), startswith(), find(), index(), count()\n",
    "\n",
    "3- split(), strip(), join(), islower(), isalpha(), isdigit()\n",
    "\n",
    "\n",
    "Yukarıdaki `string` metodlarındaki değişimleri görebildiğimiz bir program yazınız.\n"
   ]
  },
  {
   "cell_type": "code",
   "execution_count": 50,
   "metadata": {},
   "outputs": [
    {
     "name": "stdout",
     "output_type": "stream",
     "text": [
      "capitalize():  Merhababenyetgencorepythonoğrencisiyim\n",
      "lower():  merhababenyetgencorepythonoğrencisiyim\n",
      "upper():  MERHABABENYETGENCOREPYTHONOĞRENCISIYIM\n",
      "swapcase():  merhababenyetgencorepythonoğrencisiyim\n",
      "title():  Merhababenyetgencorepythonoğrencisiyim\n",
      "replace():  MErhababEnyEtgEncorEpythonoğrEncisiyim\n",
      "endswith() :  True\n",
      "find() : -1\n",
      "index() :  2\n",
      "count() :  0\n",
      "split() :  ['MErhababEnyEtgEncorEpythonoğrEncisiyim']\n",
      "join() :  MErhababEnyEtgEncorEpythonoğrEncisiyim\n",
      "islower() sonrası:  False\n",
      "isalpha() :  True\n"
     ]
    },
    {
     "data": {
      "text/plain": [
       "<function print(*args, sep=' ', end='\\n', file=None, flush=False)>"
      ]
     },
     "execution_count": 50,
     "metadata": {},
     "output_type": "execute_result"
    }
   ],
   "source": [
    "text = (\"MerhababenYetGenCorepythonoğrenCisiyim\")\n",
    "\n",
    "#ilk harfi büyütüyor \n",
    "text = text.capitalize()\n",
    "print(\"capitalize(): \", text)\n",
    "\n",
    "#ilk harfi küçültüyor\n",
    "text = text.lower()\n",
    "print(\"lower(): \", text)\n",
    "\n",
    "#hepsini büyük yazıyor\n",
    "text = text.upper()\n",
    "print(\"upper(): \", text)\n",
    "\n",
    "#hepsini küçük yazdı\n",
    "text = text.swapcase()\n",
    "print(\"swapcase(): \", text)\n",
    "\n",
    "#her kelimenin ilk harfi büyük\n",
    "text = text.title()\n",
    "print(\"title(): \", text)\n",
    "\n",
    "#tanımlanan değiştirmeye text içinde yapar\n",
    "text = text.replace(\"e\" , \"E\")\n",
    "print(\"replace(): \", text)\n",
    "\n",
    "#sondaki harfe bakıyor true or false veriyor\n",
    "result = text.endswith(\"m\")\n",
    "print(\"endswith() : \", result)\n",
    "\n",
    "#yerini söylüyor\n",
    "index = text.find(\"Y\")\n",
    "print(\"find() :\", index)\n",
    "\n",
    "#?????\n",
    "index = text.index(\"r\")\n",
    "print(\"index() : \", index)\n",
    "\n",
    "#içinde olup olmadığına bakıyor varsa 1 yoksa 0\n",
    "count = text.count(\"L\")\n",
    "print(\"count() : \", count)\n",
    "\n",
    "#virgülle ayırıyor\n",
    "words = text.split()\n",
    "print(\"split() : \", words)\n",
    "\n",
    "#karakter ekliyor\n",
    "text = \"-\".join(words)\n",
    "print(\"join() : \", text)\n",
    "\n",
    "#tamamı küçük harflerden oluşuyor mu sorusuna cevap verir\n",
    "result = text.islower()\n",
    "print(\"islower() sonrası: \", result)\n",
    "\n",
    "#tüm karakterler alfabeye uyuyor mu sorusuna cevap verir\n",
    "result = text.isalpha()\n",
    "print(\"isalpha() : \", result)\n",
    "\n",
    "isdigit #rakam olup olmadığını kontrol eder.\n",
    "\n",
    "\n",
    "\n",
    "\n",
    "\n"
   ]
  }
 ],
 "metadata": {
  "kernelspec": {
   "display_name": "Python 3.10.5 64-bit",
   "language": "python",
   "name": "python3"
  },
  "language_info": {
   "name": "python",
   "version": "3.10.5"
  },
  "orig_nbformat": 4,
  "vscode": {
   "interpreter": {
    "hash": "5026d2d6e7aaaaba093def813beadff083d8733e4a511af01735cbabd156995d"
   }
  }
 },
 "nbformat": 4,
 "nbformat_minor": 2
}
