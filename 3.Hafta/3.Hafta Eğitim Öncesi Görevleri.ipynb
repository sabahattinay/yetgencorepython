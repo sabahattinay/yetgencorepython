{
  "cells": [
    {
      "cell_type": "markdown",
      "metadata": {
        "id": "tsD4YVAe_Te2"
      },
      "source": [
        "# Problem 1\n",
        "Bir sayının 7'ye bölünebilir olup olmadığını kontrol etmek \n",
        "için bir program yazın.\n",
        "\n",
        "İpucu: Mod operatörünü (%) kullanabilirsiniz."
      ]
    },
    {
      "cell_type": "code",
      "execution_count": 2,
      "metadata": {
        "id": "NGjvNwKx_Te7"
      },
      "outputs": [
        {
          "name": "stdout",
          "output_type": "stream",
          "text": [
            "5 7'ye bolunemez\n"
          ]
        }
      ],
      "source": [
        "sayi = int(input(\"Bir sayi girin: \"))\n",
        "\n",
        "if sayi % 7 == 0:\n",
        "    print(sayi, \"7'ye bolunebilir\")\n",
        "\n",
        "else:\n",
        "  print(sayi, \"7'ye bolunemez\")"
      ]
    },
    {
      "cell_type": "markdown",
      "metadata": {
        "id": "Kg3qiBAI_Te8"
      },
      "source": [
        "# Problem 2\n",
        "Kullanıcıdan vize ve final notu isteyin. Girilen vize notunun %40’ı ve \n",
        "girilen finalnotunun ise %60’ı alınarak yıl sonu not ortalaması hesaplanacaktır. \n",
        "\n",
        "Bu not ortalaması eğer 85 ve üzeri ise AA, \n",
        "\n",
        "75 ve 85 arasında ise BA, \n",
        "\n",
        "70 ve 75 arasında ise BB, \n",
        "\n",
        "65 ve 70 arasında ise CB,\n",
        "\n",
        "60 ve 65 arasında ise CC,\n",
        "\n",
        "55 ve 60 arasında ise DC,\n",
        "\n",
        "50 ve 55 arasında ise DD olarak hesaplanacaktır. \n",
        "\n",
        "Bu öğrencinin yıl sonu toplam notu 50’nin altında ise FF ile dersten kalacaktır. \n",
        "\n",
        "Ayrıca öğrencinin final notu 50’nin altında ise direkt FF ile kalacaktır."
      ]
    },
    {
      "cell_type": "code",
      "execution_count": 1,
      "metadata": {
        "id": "MXTtCxI1_Te8"
      },
      "outputs": [
        {
          "name": "stdout",
          "output_type": "stream",
          "text": [
            "Yıl sonu notunuz: 56.0 DC\n"
          ]
        }
      ],
      "source": [
        "vize_notu = float(input(\"Lütfen vize notunuzu girin: \"))\n",
        "final_notu = float(input(\"Lütfen final notunuzu girin: \"))\n",
        "\n",
        "yilsonu_notu = vize_notu * 0.4 + final_notu * 0.6\n",
        "\n",
        "if final_notu < 50:\n",
        "    print(\"FF ile dersten kaldınız.\")\n",
        "elif yilsonu_notu < 50:\n",
        "    print(\"FF ile dersten kaldınız.\")\n",
        "elif yilsonu_notu >= 85:\n",
        "    print(\"Yıl sonu notunuz:\", yilsonu_notu, \"AA\")\n",
        "elif 75 <= yilsonu_notu < 85:\n",
        "    print(\"Yıl sonu notunuz:\", yilsonu_notu, \"BA\")\n",
        "elif 70 <= yilsonu_notu < 75:\n",
        "    print(\"Yıl sonu notunuz:\", yilsonu_notu, \"BB\")\n",
        "elif 65 <= yilsonu_notu < 70:\n",
        "    print(\"Yıl sonu notunuz:\", yilsonu_notu, \"CB\")\n",
        "elif 60 <= yilsonu_notu < 65:\n",
        "    print(\"Yıl sonu notunuz:\", yilsonu_notu, \"CC\")\n",
        "elif 55 <= yilsonu_notu < 60:\n",
        "    print(\"Yıl sonu notunuz:\", yilsonu_notu, \"DC\")\n",
        "else:\n",
        "    print(\"Yıl sonu notunuz:\", yilsonu_notu, \"DD\")\n"
      ]
    },
    {
      "cell_type": "markdown",
      "metadata": {
        "id": "tAoRYCTC_Te8"
      },
      "source": [
        "# Problem 3\n",
        "İki YetGenli Zirve'de karşılaşıyorlar. Birbirlerini tanımak için sorular soruyorlar. Birbirlerine yaşlarını soruyorlar. Akıllarına bir Python programı yazıp, yaşlarını ve isimlerini giriyorlar. Büyük olanın yaşını ekrana yazdıran programı yazıyorlar. Sende bu iki YetGenli'ye destek olmak ister misin?\n",
        "\n",
        "```\n",
        "Birinci YetGenlinin ismi: Ahmet\n",
        "Birinci YetGenlinin yaşı : 20\n",
        "İkinci YetGenlinin ismi: Mehmet\n",
        "İkinci YetGenlinin yaşı : 25\n",
        "Mehmet'in yaşı daha büyük ve yaşı 25'tir.\n",
        "```"
      ]
    },
    {
      "cell_type": "code",
      "execution_count": 3,
      "metadata": {
        "id": "bPjE8W0i_Te8"
      },
      "outputs": [
        {
          "name": "stdout",
          "output_type": "stream",
          "text": [
            "Sebo'in yaşı daha büyük ve yaşı 42'dir.\n"
          ]
        }
      ],
      "source": [
        "# kullanıcıdan isim ve yaş bilgisi alınır\n",
        "ad1 = input(\"Birinci YetGenlinin ismi: \")\n",
        "yas1 = int(input(\"Birinci YetGenlinin yaşı : \"))\n",
        "ad2 = input(\"İkinci YetGenlinin ismi: \")\n",
        "yas2 = int(input(\"İkinci YetGenlinin yaşı : \"))\n",
        "\n",
        "# yaş karşılaştırması yapılır\n",
        "if yas1 > yas2:\n",
        "    print(ad1 + \"'in yaşı daha büyük ve yaşı \" + str(yas1) + \"'dir.\")\n",
        "elif yas1 < yas2:\n",
        "    print(ad2 + \"'in yaşı daha büyük ve yaşı \" + str(yas2) + \"'dir.\")\n",
        "else:\n",
        "    print(\"İki YetGenlinin yaşı da aynı ve yaşı \" + str(yas1) + \"'dir.\")\n"
      ]
    },
    {
      "cell_type": "markdown",
      "metadata": {
        "id": "zBVv8Tyg_Te9"
      },
      "source": [
        "# Problem 4\n",
        "Pandemi döneminde AVM'lerde ateş ölçümü yapılıyor. AVM'ye giren kişinin ateş ölçümü 37.5 derecenin altında ise girişe izin veriliyor. 37.5 derecenin üstünde ise girişe izin verilmiyor. AVM'ye girişe izin verilip verilmediğini ekrana yazdıran bir program yazın.\n",
        "\n",
        "Program sonunda şöyle bir çıktı elde etmelisiniz:\n",
        "\n",
        "```\n",
        "Ateşiniz 37.5 derece. AVM'ye girebilirsin! Maske takmayı unutma!\n",
        "Ateşiniz 37.6 derece. AVM'ye giremezsin! Hemen evine dön!\n",
        "```"
      ]
    },
    {
      "cell_type": "code",
      "execution_count": 4,
      "metadata": {
        "id": "TSAXs8et_Te9"
      },
      "outputs": [
        {
          "name": "stdout",
          "output_type": "stream",
          "text": [
            "Ateşiniz 40.0 derece. AVM'ye giremezsin! Hemen evine dön!\n"
          ]
        }
      ],
      "source": [
        "# kullanıcıdan ateş ölçümü değeri alınır\n",
        "ates = float(input(\"Lütfen ateş ölçümünüzü girin: \"))\n",
        "\n",
        "# ateş ölçümüne göre giriş izni kontrol edilir\n",
        "if ates < 37.5:\n",
        "    print(\"Ateşiniz \" + str(ates) + \" derece. AVM'ye girebilirsin! Maske takmayı unutma!\")\n",
        "else:\n",
        "    print(\"Ateşiniz \" + str(ates) + \" derece. AVM'ye giremezsin! Hemen evine dön!\")\n"
      ]
    },
    {
      "cell_type": "markdown",
      "metadata": {
        "id": "6AEkZrDt_Te9"
      },
      "source": [
        "# Problem 5\n",
        "YetGen bir spor kulübüyle sponsorluk anlaşması yapıyor. Kulüp, sponsorluk anlaşmasına göre her YetGen liderinin beden kitle indeksini hesaplamak istiyor. Spor kulübü, beden kitle indeksini hesaplamak için YetGen Jump Python liderlerinden Berkcan ve Ahmet'i arıyor. Berkcan ve Ahmet, kulübe yardımcı olmak için bir Python programı yazıyorlar. Sende bu iki YetGen liderine destek olmak ister misin?\n",
        "\n",
        "Kullanıcıdan alınan boy ve kilo değerlerine göre beden kitle indeksini hesaplayın ve şu kurallara göre ekrana şu yazıları yazdırın.\n",
        "\n",
        "\n",
        "Beden Kitle İndeksi, kişinin ağırlığının (kg olarak) boyunun karesine (m olarak) bölünmesiyle hesaplanır.\n",
        "\n",
        "\n",
        "```\n",
        " BKİ 18.5'un altındaysa -------> Zayıf\n",
        "\n",
        " BKİ 18.5 ile 25 arasındaysa ------> Normal\n",
        "\n",
        " BKİ 25 ile 30 arasındaysa --------> Fazla Kilolu\n",
        "\n",
        " BKİ 30'un üstündeyse -------------> Obez\n",
        "```\n",
        "\n"
      ]
    },
    {
      "cell_type": "code",
      "execution_count": 5,
      "metadata": {
        "id": "t-XPI_u0_Te-"
      },
      "outputs": [
        {
          "name": "stdout",
          "output_type": "stream",
          "text": [
            "Beden kitle indeksiniz: 0.0 Zayıf\n"
          ]
        }
      ],
      "source": [
        "boy = float(input(\"Boyunuzu girin (metre cinsinden): \"))\n",
        "kilo = float(input(\"Kilonuzu girin (kg cinsinden): \"))\n",
        "\n",
        "bki = kilo / (boy ** 2)\n",
        "\n",
        "if bki < 18.5:\n",
        "    print(\"Beden kitle indeksiniz:\", round(bki, 2), \"Zayıf\")\n",
        "elif 18.5 <= bki < 25:\n",
        "    print(\"Beden kitle indeksiniz:\", round(bki, 2), \"Normal\")\n",
        "elif 25 <= bki < 30:\n",
        "    print(\"Beden kitle indeksiniz:\", round(bki, 2), \"Fazla Kilolu\")\n",
        "else:\n",
        "    print(\"Beden kitle indeksiniz:\", round(bki, 2), \"Obez\")\n"
      ]
    },
    {
      "cell_type": "markdown",
      "metadata": {
        "id": "oFsvQyaO_Te-"
      },
      "source": [
        "# Problem 6\n",
        "Kullanıcıdan isim, yaş ve eğitim bilgilerini isteyip ehliyet alabilme  durumunu kontrol ediniz. \n",
        "\n",
        "Ehliyet alma koşulu en az 18 yaşında ve eğitim durumu lise ya da üniversite olmalıdır. "
      ]
    },
    {
      "cell_type": "code",
      "execution_count": 6,
      "metadata": {
        "id": "Tu2mcgco_Te-"
      },
      "outputs": [
        {
          "name": "stdout",
          "output_type": "stream",
          "text": [
            "Sebo, ehliyet alabilirsiniz!\n"
          ]
        }
      ],
      "source": [
        "\n",
        "isim = input(\"İsminiz nedir? \")\n",
        "yas = int(input(\"Yaşınız kaç? \"))\n",
        "egitim = input(\"Eğitim durumunuz nedir? (Lise/Üniversite)\")\n",
        "\n",
        "if yas >= 18 and (egitim == \"Lise\" or egitim == \"Üniversite\"):\n",
        "    print(isim + \", ehliyet alabilirsiniz!\")\n",
        "else:\n",
        "    print(isim + \", maalesef ehliyet alamazsınız.\")\n"
      ]
    },
    {
      "cell_type": "markdown",
      "metadata": {
        "id": "eUkxVSAE_Te_"
      },
      "source": [
        "# Problem 7\n",
        "Bir yılın artık yıl olup olmadığını kontrol etmek için bir program yazın. \n",
        "Artık yıl kuralı:\n",
        "\n",
        "a) Eğer yılın son iki basamağı (00) ile bitmiyor ve yalnızca 4'e tam bölünüyorsa artık yıldır. Ya da, \n",
        "\n",
        "b) Eğer yıl 400'e tam bölünüyorsa artık yıldır.\n",
        "\n",
        "**Örneğin**\n",
        "```\n",
        "2017 artık yıl değildir.\n",
        "1900 artık yıl değildir\n",
        "2012 artık yıldır.\n",
        "2000 artık yıldır.\n",
        "```"
      ]
    },
    {
      "cell_type": "code",
      "execution_count": 14,
      "metadata": {
        "id": "4uWh8qUL_Te_"
      },
      "outputs": [
        {
          "name": "stdout",
          "output_type": "stream",
          "text": [
            "2000 yılı artık yıldır.\n"
          ]
        }
      ],
      "source": [
        "yıl = int(input(\"Yılı giriniz\" ))\n",
        "\n",
        "if yıl % 4 == 0 and yıl % 100 != 0:\n",
        "   print(f\"{yıl} yılı artık yıldır.\")\n",
        "elif yıl % 400 == 0:\n",
        "   print(f\"{yıl} yılı artık yıldır.\")\n",
        "else:\n",
        "   print(f\"{yıl} yılı artık yıl değildir. \")"
      ]
    }
  ],
  "metadata": {
    "colab": {
      "provenance": []
    },
    "kernelspec": {
      "display_name": "Python 3.10.5 64-bit",
      "language": "python",
      "name": "python3"
    },
    "language_info": {
      "codemirror_mode": {
        "name": "ipython",
        "version": 3
      },
      "file_extension": ".py",
      "mimetype": "text/x-python",
      "name": "python",
      "nbconvert_exporter": "python",
      "pygments_lexer": "ipython3",
      "version": "3.11.2"
    },
    "orig_nbformat": 4,
    "vscode": {
      "interpreter": {
        "hash": "5026d2d6e7aaaaba093def813beadff083d8733e4a511af01735cbabd156995d"
      }
    }
  },
  "nbformat": 4,
  "nbformat_minor": 0
}
