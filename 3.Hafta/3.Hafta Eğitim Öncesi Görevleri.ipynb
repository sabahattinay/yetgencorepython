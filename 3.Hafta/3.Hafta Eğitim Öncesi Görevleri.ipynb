{
  "cells": [
    {
      "cell_type": "markdown",
      "metadata": {
        "id": "tsD4YVAe_Te2"
      },
      "source": [
        "# Problem 1\n",
        "Bir sayının 7'ye bölünebilir olup olmadığını kontrol etmek \n",
        "için bir program yazın.\n",
        "\n",
        "İpucu: Mod operatörünü (%) kullanabilirsiniz."
      ]
    },
    {
      "cell_type": "code",
      "execution_count": 2,
      "metadata": {
        "id": "NGjvNwKx_Te7"
      },
      "outputs": [
        {
          "name": "stdout",
          "output_type": "stream",
          "text": [
            "5 7'ye bolunemez\n"
          ]
        }
      ],
      "source": [
        "sayi = int(input(\"Bir sayi girin: \"))\n",
        "\n",
        "if sayi % 7 == 0:\n",
        "    print(sayi, \"7'ye bolunebilir\")\n",
        "\n",
        "else:\n",
        "  print(sayi, \"7'ye bolunemez\")"
      ]
    },
    {
      "cell_type": "markdown",
      "metadata": {
        "id": "Kg3qiBAI_Te8"
      },
      "source": [
        "# Problem 2\n",
        "Kullanıcıdan vize ve final notu isteyin. Girilen vize notunun %40’ı ve \n",
        "girilen finalnotunun ise %60’ı alınarak yıl sonu not ortalaması hesaplanacaktır. \n",
        "\n",
        "Bu not ortalaması eğer 85 ve üzeri ise AA, \n",
        "\n",
        "75 ve 85 arasında ise BA, \n",
        "\n",
        "70 ve 75 arasında ise BB, \n",
        "\n",
        "65 ve 70 arasında ise CB,\n",
        "\n",
        "60 ve 65 arasında ise CC,\n",
        "\n",
        "55 ve 60 arasında ise DC,\n",
        "\n",
        "50 ve 55 arasında ise DD olarak hesaplanacaktır. \n",
        "\n",
        "Bu öğrencinin yıl sonu toplam notu 50’nin altında ise FF ile dersten kalacaktır. \n",
        "\n",
        "Ayrıca öğrencinin final notu 50’nin altında ise direkt FF ile kalacaktır."
      ]
    },
    {
      "cell_type": "code",
      "execution_count": 16,
      "metadata": {
        "id": "MXTtCxI1_Te8"
      },
      "outputs": [
        {
          "ename": "NameError",
          "evalue": "name 'vize' is not defined",
          "output_type": "error",
          "traceback": [
            "\u001b[1;31m---------------------------------------------------------------------------\u001b[0m",
            "\u001b[1;31mNameError\u001b[0m                                 Traceback (most recent call last)",
            "Cell \u001b[1;32mIn[16], line 5\u001b[0m\n\u001b[0;32m      2\u001b[0m final_notu \u001b[39m=\u001b[39m \u001b[39mfloat\u001b[39m(\u001b[39minput\u001b[39m(\u001b[39m\"\u001b[39m\u001b[39mLütfen final notunuzu giriniz: \u001b[39m\u001b[39m\"\u001b[39m))\n\u001b[0;32m      4\u001b[0m \u001b[39m# Vize notunun %40'ı ve final notunun %60'ı alınarak not ortalaması hesaplanıyor\u001b[39;00m\n\u001b[1;32m----> 5\u001b[0m ortalama \u001b[39m=\u001b[39m vize \u001b[39m*\u001b[39m \u001b[39m0.4\u001b[39m \u001b[39m+\u001b[39m final \u001b[39m*\u001b[39m \u001b[39m0.6\u001b[39m\n\u001b[0;32m      7\u001b[0m \u001b[39mif\u001b[39;00m final \u001b[39m>\u001b[39m\u001b[39m=\u001b[39m \u001b[39m50\u001b[39m:\n\u001b[0;32m      9\u001b[0m   \u001b[39mif\u001b[39;00m ortalama \u001b[39m>\u001b[39m\u001b[39m=\u001b[39m \u001b[39m85\u001b[39m:\n",
            "\u001b[1;31mNameError\u001b[0m: name 'vize' is not defined"
          ]
        }
      ],
      "source": [
        "vize_notu = float(input(\"Lütfen vize notunuzu giriniz: \"))\n",
        "final_notu = float(input(\"Lütfen final notunuzu giriniz: \"))\n",
        "\n",
        "# Vize notunun %40'ı ve final notunun %60'ı alınarak not ortalaması hesaplanıyor\n",
        "ortalama = vize * 0.4 + final * 0.6\n",
        "\n",
        "if final >= 50:\n",
        "\n",
        "  if ortalama >= 85:\n",
        "    print(\"AA alarak başarıyla geçtiniz. \")\n",
        "\n",
        "  elif ortalama >= 75:\n",
        "    print(\"BA alarak başarıyla geçtiniz.\")\n",
        "\n",
        "  elif ortalama >= 70:\n",
        "    print(\"BB alarak başarıyla geçtiniz. \")\n",
        "  \n",
        "  elif ortalama >= 65:\n",
        "    print(\"CB alarak başarıyla geçtiniz.\")\n",
        "    \n"
      ]
    },
    {
      "cell_type": "markdown",
      "metadata": {
        "id": "tAoRYCTC_Te8"
      },
      "source": [
        "# Problem 3\n",
        "İki YetGenli Zirve'de karşılaşıyorlar. Birbirlerini tanımak için sorular soruyorlar. Birbirlerine yaşlarını soruyorlar. Akıllarına bir Python programı yazıp, yaşlarını ve isimlerini giriyorlar. Büyük olanın yaşını ekrana yazdıran programı yazıyorlar. Sende bu iki YetGenli'ye destek olmak ister misin?\n",
        "\n",
        "```\n",
        "Birinci YetGenlinin ismi: Ahmet\n",
        "Birinci YetGenlinin yaşı : 20\n",
        "İkinci YetGenlinin ismi: Mehmet\n",
        "İkinci YetGenlinin yaşı : 25\n",
        "Mehmet'in yaşı daha büyük ve yaşı 25'tir.\n",
        "```"
      ]
    },
    {
      "cell_type": "code",
      "execution_count": 8,
      "metadata": {
        "id": "bPjE8W0i_Te8"
      },
      "outputs": [
        {
          "ename": "ValueError",
          "evalue": "invalid literal for int() with base 10: 'sebo'",
          "output_type": "error",
          "traceback": [
            "\u001b[1;31m---------------------------------------------------------------------------\u001b[0m",
            "\u001b[1;31mValueError\u001b[0m                                Traceback (most recent call last)",
            "Cell \u001b[1;32mIn[8], line 3\u001b[0m\n\u001b[0;32m      1\u001b[0m \u001b[39m# İlk kişinin bilgileri\u001b[39;00m\n\u001b[0;32m      2\u001b[0m isim1 \u001b[39m=\u001b[39m \u001b[39minput\u001b[39m(\u001b[39m\"\u001b[39m\u001b[39mLütfen ilk kişinin adını girin: \u001b[39m\u001b[39m\"\u001b[39m)\n\u001b[1;32m----> 3\u001b[0m yas1 \u001b[39m=\u001b[39m \u001b[39mint\u001b[39;49m(\u001b[39minput\u001b[39;49m(\u001b[39m\"\u001b[39;49m\u001b[39mLütfen ilk kişinin yaşını girin: \u001b[39;49m\u001b[39m\"\u001b[39;49m))\n\u001b[0;32m      5\u001b[0m \u001b[39m# İkinci kişinin bilgileri\u001b[39;00m\n\u001b[0;32m      6\u001b[0m isim2 \u001b[39m=\u001b[39m \u001b[39minput\u001b[39m(\u001b[39m\"\u001b[39m\u001b[39mLütfen ikinci kişinin adını girin: \u001b[39m\u001b[39m\"\u001b[39m)\n",
            "\u001b[1;31mValueError\u001b[0m: invalid literal for int() with base 10: 'sebo'"
          ]
        }
      ],
      "source": [
        "# İlk kişinin bilgileri\n",
        "isim1 = input(\"Lütfen ilk kişinin adını girin: \")\n",
        "yas1 = int(input(\"Lütfen ilk kişinin yaşını girin: \"))\n",
        "\n",
        "# İkinci kişinin bilgileri\n",
        "isim2 = input(\"Lütfen ikinci kişinin adını girin: \")\n",
        "yas2 = int(input(\"Lütfen ikinci kişinin yaşını girin: \"))\n",
        "\n",
        "# Yaş karşılaştırması\n",
        "if yas1 > yas2:\n",
        "    print(f\"{isim1} {isim2}'dan daha büyük.\")\n",
        "sebo yas2 > yas1:\n",
        "    print(f\"{isim2} {isim1}'dan daha büyük.\")\n",
        "else:\n",
        "    print(\"İki kişinin yaşı da eşit.\")"
      ]
    },
    {
      "cell_type": "markdown",
      "metadata": {
        "id": "zBVv8Tyg_Te9"
      },
      "source": [
        "# Problem 4\n",
        "Pandemi döneminde AVM'lerde ateş ölçümü yapılıyor. AVM'ye giren kişinin ateş ölçümü 37.5 derecenin altında ise girişe izin veriliyor. 37.5 derecenin üstünde ise girişe izin verilmiyor. AVM'ye girişe izin verilip verilmediğini ekrana yazdıran bir program yazın.\n",
        "\n",
        "Program sonunda şöyle bir çıktı elde etmelisiniz:\n",
        "\n",
        "```\n",
        "Ateşiniz 37.5 derece. AVM'ye girebilirsin! Maske takmayı unutma!\n",
        "Ateşiniz 37.6 derece. AVM'ye giremezsin! Hemen evine dön!\n",
        "```"
      ]
    },
    {
      "cell_type": "code",
      "execution_count": 9,
      "metadata": {
        "id": "TSAXs8et_Te9"
      },
      "outputs": [
        {
          "name": "stdout",
          "output_type": "stream",
          "text": [
            "Girişe izin verme.\n"
          ]
        }
      ],
      "source": [
        "# Kullanıcıdan ateş ölçümünü alın\n",
        "ates = float(input(\"Lütfen ateş ölçümünüzü girin: \"))\n",
        "\n",
        "# Ateş ölçümüne göre karar verin\n",
        "if ates < 37.5:\n",
        "    print(\"Girişe izin verin.\")\n",
        "else:\n",
        "    print(\"Girişe izin verme.\")\n"
      ]
    },
    {
      "cell_type": "markdown",
      "metadata": {
        "id": "6AEkZrDt_Te9"
      },
      "source": [
        "# Problem 5\n",
        "YetGen bir spor kulübüyle sponsorluk anlaşması yapıyor. Kulüp, sponsorluk anlaşmasına göre her YetGen liderinin beden kitle indeksini hesaplamak istiyor. Spor kulübü, beden kitle indeksini hesaplamak için YetGen Jump Python liderlerinden Berkcan ve Ahmet'i arıyor. Berkcan ve Ahmet, kulübe yardımcı olmak için bir Python programı yazıyorlar. Sende bu iki YetGen liderine destek olmak ister misin?\n",
        "\n",
        "Kullanıcıdan alınan boy ve kilo değerlerine göre beden kitle indeksini hesaplayın ve şu kurallara göre ekrana şu yazıları yazdırın.\n",
        "\n",
        "\n",
        "Beden Kitle İndeksi, kişinin ağırlığının (kg olarak) boyunun karesine (m olarak) bölünmesiyle hesaplanır.\n",
        "\n",
        "\n",
        "```\n",
        " BKİ 18.5'un altındaysa -------> Zayıf\n",
        "\n",
        " BKİ 18.5 ile 25 arasındaysa ------> Normal\n",
        "\n",
        " BKİ 25 ile 30 arasındaysa --------> Fazla Kilolu\n",
        "\n",
        " BKİ 30'un üstündeyse -------------> Obez\n",
        "```\n",
        "\n"
      ]
    },
    {
      "cell_type": "code",
      "execution_count": null,
      "metadata": {
        "id": "t-XPI_u0_Te-"
      },
      "outputs": [],
      "source": [
        "# 5.Problemin Çözümünü Buraya Yazınız"
      ]
    },
    {
      "cell_type": "markdown",
      "metadata": {
        "id": "oFsvQyaO_Te-"
      },
      "source": [
        "# Problem 6\n",
        "Kullanıcıdan isim, yaş ve eğitim bilgilerini isteyip ehliyet alabilme  durumunu kontrol ediniz. \n",
        "\n",
        "Ehliyet alma koşulu en az 18 yaşında ve eğitim durumu lise ya da üniversite olmalıdır. "
      ]
    },
    {
      "cell_type": "code",
      "execution_count": null,
      "metadata": {
        "id": "Tu2mcgco_Te-"
      },
      "outputs": [],
      "source": [
        "# 6.Problemin Çözümünü Buraya Yazınız"
      ]
    },
    {
      "cell_type": "markdown",
      "metadata": {
        "id": "eUkxVSAE_Te_"
      },
      "source": [
        "# Problem 7\n",
        "Bir yılın artık yıl olup olmadığını kontrol etmek için bir program yazın. \n",
        "Artık yıl kuralı:\n",
        "\n",
        "a) Eğer yılın son iki basamağı (00) ile bitmiyor ve yalnızca 4'e tam bölünüyorsa artık yıldır. Ya da, \n",
        "\n",
        "b) Eğer yıl 400'e tam bölünüyorsa artık yıldır.\n",
        "\n",
        "**Örneğin**\n",
        "```\n",
        "2017 artık yıl değildir.\n",
        "1900 artık yıl değildir\n",
        "2012 artık yıldır.\n",
        "2000 artık yıldır.\n",
        "```"
      ]
    },
    {
      "cell_type": "code",
      "execution_count": 14,
      "metadata": {
        "id": "4uWh8qUL_Te_"
      },
      "outputs": [
        {
          "name": "stdout",
          "output_type": "stream",
          "text": [
            "2000 yılı artık yıldır.\n"
          ]
        }
      ],
      "source": [
        "yıl = int(input(\"Yılı giriniz\" ))\n",
        "\n",
        "if yıl % 4 == 0 and yıl % 100 != 0:\n",
        "   print(f\"{yıl} yılı artık yıldır.\")\n",
        "elif yıl % 400 == 0:\n",
        "   print(f\"{yıl} yılı artık yıldır.\")\n",
        "else:\n",
        "   print(f\"{yıl} yılı artık yıl değildir. \")"
      ]
    }
  ],
  "metadata": {
    "colab": {
      "provenance": []
    },
    "kernelspec": {
      "display_name": "Python 3.10.5 64-bit",
      "language": "python",
      "name": "python3"
    },
    "language_info": {
      "codemirror_mode": {
        "name": "ipython",
        "version": 3
      },
      "file_extension": ".py",
      "mimetype": "text/x-python",
      "name": "python",
      "nbconvert_exporter": "python",
      "pygments_lexer": "ipython3",
      "version": "3.11.2"
    },
    "orig_nbformat": 4,
    "vscode": {
      "interpreter": {
        "hash": "5026d2d6e7aaaaba093def813beadff083d8733e4a511af01735cbabd156995d"
      }
    }
  },
  "nbformat": 4,
  "nbformat_minor": 0
}
